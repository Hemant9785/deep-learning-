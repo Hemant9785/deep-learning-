{
  "nbformat": 4,
  "nbformat_minor": 0,
  "metadata": {
    "colab": {
      "provenance": [],
      "authorship_tag": "ABX9TyO45+Qa3NrK+VWKe7W2nk86",
      "include_colab_link": true
    },
    "kernelspec": {
      "name": "python3",
      "display_name": "Python 3"
    },
    "language_info": {
      "name": "python"
    }
  },
  "cells": [
    {
      "cell_type": "markdown",
      "metadata": {
        "id": "view-in-github",
        "colab_type": "text"
      },
      "source": [
        "<a href=\"https://colab.research.google.com/github/Hemant9785/deep-learning-/blob/main/disinfectants.ipynb\" target=\"_parent\"><img src=\"https://colab.research.google.com/assets/colab-badge.svg\" alt=\"Open In Colab\"/></a>"
      ]
    },
    {
      "cell_type": "code",
      "execution_count": 306,
      "metadata": {
        "id": "Cr0qP_Z5MPSw"
      },
      "outputs": [],
      "source": [
        "import numpy as np\n",
        "import pandas as pd\n",
        "import tensorflow as tf\n"
      ]
    },
    {
      "cell_type": "code",
      "source": [
        "df = pd.read_csv('./EXP0-7J.csv')\n",
        "df"
      ],
      "metadata": {
        "colab": {
          "base_uri": "https://localhost:8080/",
          "height": 423
        },
        "id": "cbNZwb0DMsXx",
        "outputId": "3e466321-1fa8-474d-d529-2a4856ac8d45"
      },
      "execution_count": 307,
      "outputs": [
        {
          "output_type": "execute_result",
          "data": {
            "text/plain": [
              "            Time  Reading_ID  Temp  Humidity  MQ2  MQ3   MQ4  MQ7   MQ9  \\\n",
              "0       12:43:55           2  34.4      45.0  441  274   826  374   830   \n",
              "1        12:44:0           3  34.4      44.9  468  285  1024  385  1024   \n",
              "2        12:44:5           4  34.3      45.4  536  296  1024  448  1024   \n",
              "3       12:44:10           5  34.3      46.1  567  280  1024  469  1024   \n",
              "4       12:44:16           6  34.2      46.2  577  264  1024  475  1024   \n",
              "...          ...         ...   ...       ...  ...  ...   ...  ...   ...   \n",
              "4394     13:57:3         865  26.0      61.1  148   72   256  101   257   \n",
              "4395     13:57:8         866  26.1      61.1  164   72   257  101   258   \n",
              "4396    13:57:13         867  26.1      61.1  163   73   260  101   261   \n",
              "4397    13:57:18         868  26.1      61.1  151   72   260  101   261   \n",
              "4398    13:57:23         869  26.1      61.1  139   72   260  101   261   \n",
              "\n",
              "      MQ135  MQ6  MQ8  TARGET  \n",
              "0       373  272  441       0  \n",
              "1       382  283  468       0  \n",
              "2       446  294  537       0  \n",
              "3       465  278  567       0  \n",
              "4       474  260  577       0  \n",
              "...     ...  ...  ...     ...  \n",
              "4394    100   72  148       7  \n",
              "4395    101   72  163       7  \n",
              "4396    101   72  163       7  \n",
              "4397    101   72  151       7  \n",
              "4398    101   72  138       7  \n",
              "\n",
              "[4399 rows x 13 columns]"
            ],
            "text/html": [
              "\n",
              "  <div id=\"df-b6d48042-8143-459c-b7d4-ad3dca32fcb9\">\n",
              "    <div class=\"colab-df-container\">\n",
              "      <div>\n",
              "<style scoped>\n",
              "    .dataframe tbody tr th:only-of-type {\n",
              "        vertical-align: middle;\n",
              "    }\n",
              "\n",
              "    .dataframe tbody tr th {\n",
              "        vertical-align: top;\n",
              "    }\n",
              "\n",
              "    .dataframe thead th {\n",
              "        text-align: right;\n",
              "    }\n",
              "</style>\n",
              "<table border=\"1\" class=\"dataframe\">\n",
              "  <thead>\n",
              "    <tr style=\"text-align: right;\">\n",
              "      <th></th>\n",
              "      <th>Time</th>\n",
              "      <th>Reading_ID</th>\n",
              "      <th>Temp</th>\n",
              "      <th>Humidity</th>\n",
              "      <th>MQ2</th>\n",
              "      <th>MQ3</th>\n",
              "      <th>MQ4</th>\n",
              "      <th>MQ7</th>\n",
              "      <th>MQ9</th>\n",
              "      <th>MQ135</th>\n",
              "      <th>MQ6</th>\n",
              "      <th>MQ8</th>\n",
              "      <th>TARGET</th>\n",
              "    </tr>\n",
              "  </thead>\n",
              "  <tbody>\n",
              "    <tr>\n",
              "      <th>0</th>\n",
              "      <td>12:43:55</td>\n",
              "      <td>2</td>\n",
              "      <td>34.4</td>\n",
              "      <td>45.0</td>\n",
              "      <td>441</td>\n",
              "      <td>274</td>\n",
              "      <td>826</td>\n",
              "      <td>374</td>\n",
              "      <td>830</td>\n",
              "      <td>373</td>\n",
              "      <td>272</td>\n",
              "      <td>441</td>\n",
              "      <td>0</td>\n",
              "    </tr>\n",
              "    <tr>\n",
              "      <th>1</th>\n",
              "      <td>12:44:0</td>\n",
              "      <td>3</td>\n",
              "      <td>34.4</td>\n",
              "      <td>44.9</td>\n",
              "      <td>468</td>\n",
              "      <td>285</td>\n",
              "      <td>1024</td>\n",
              "      <td>385</td>\n",
              "      <td>1024</td>\n",
              "      <td>382</td>\n",
              "      <td>283</td>\n",
              "      <td>468</td>\n",
              "      <td>0</td>\n",
              "    </tr>\n",
              "    <tr>\n",
              "      <th>2</th>\n",
              "      <td>12:44:5</td>\n",
              "      <td>4</td>\n",
              "      <td>34.3</td>\n",
              "      <td>45.4</td>\n",
              "      <td>536</td>\n",
              "      <td>296</td>\n",
              "      <td>1024</td>\n",
              "      <td>448</td>\n",
              "      <td>1024</td>\n",
              "      <td>446</td>\n",
              "      <td>294</td>\n",
              "      <td>537</td>\n",
              "      <td>0</td>\n",
              "    </tr>\n",
              "    <tr>\n",
              "      <th>3</th>\n",
              "      <td>12:44:10</td>\n",
              "      <td>5</td>\n",
              "      <td>34.3</td>\n",
              "      <td>46.1</td>\n",
              "      <td>567</td>\n",
              "      <td>280</td>\n",
              "      <td>1024</td>\n",
              "      <td>469</td>\n",
              "      <td>1024</td>\n",
              "      <td>465</td>\n",
              "      <td>278</td>\n",
              "      <td>567</td>\n",
              "      <td>0</td>\n",
              "    </tr>\n",
              "    <tr>\n",
              "      <th>4</th>\n",
              "      <td>12:44:16</td>\n",
              "      <td>6</td>\n",
              "      <td>34.2</td>\n",
              "      <td>46.2</td>\n",
              "      <td>577</td>\n",
              "      <td>264</td>\n",
              "      <td>1024</td>\n",
              "      <td>475</td>\n",
              "      <td>1024</td>\n",
              "      <td>474</td>\n",
              "      <td>260</td>\n",
              "      <td>577</td>\n",
              "      <td>0</td>\n",
              "    </tr>\n",
              "    <tr>\n",
              "      <th>...</th>\n",
              "      <td>...</td>\n",
              "      <td>...</td>\n",
              "      <td>...</td>\n",
              "      <td>...</td>\n",
              "      <td>...</td>\n",
              "      <td>...</td>\n",
              "      <td>...</td>\n",
              "      <td>...</td>\n",
              "      <td>...</td>\n",
              "      <td>...</td>\n",
              "      <td>...</td>\n",
              "      <td>...</td>\n",
              "      <td>...</td>\n",
              "    </tr>\n",
              "    <tr>\n",
              "      <th>4394</th>\n",
              "      <td>13:57:3</td>\n",
              "      <td>865</td>\n",
              "      <td>26.0</td>\n",
              "      <td>61.1</td>\n",
              "      <td>148</td>\n",
              "      <td>72</td>\n",
              "      <td>256</td>\n",
              "      <td>101</td>\n",
              "      <td>257</td>\n",
              "      <td>100</td>\n",
              "      <td>72</td>\n",
              "      <td>148</td>\n",
              "      <td>7</td>\n",
              "    </tr>\n",
              "    <tr>\n",
              "      <th>4395</th>\n",
              "      <td>13:57:8</td>\n",
              "      <td>866</td>\n",
              "      <td>26.1</td>\n",
              "      <td>61.1</td>\n",
              "      <td>164</td>\n",
              "      <td>72</td>\n",
              "      <td>257</td>\n",
              "      <td>101</td>\n",
              "      <td>258</td>\n",
              "      <td>101</td>\n",
              "      <td>72</td>\n",
              "      <td>163</td>\n",
              "      <td>7</td>\n",
              "    </tr>\n",
              "    <tr>\n",
              "      <th>4396</th>\n",
              "      <td>13:57:13</td>\n",
              "      <td>867</td>\n",
              "      <td>26.1</td>\n",
              "      <td>61.1</td>\n",
              "      <td>163</td>\n",
              "      <td>73</td>\n",
              "      <td>260</td>\n",
              "      <td>101</td>\n",
              "      <td>261</td>\n",
              "      <td>101</td>\n",
              "      <td>72</td>\n",
              "      <td>163</td>\n",
              "      <td>7</td>\n",
              "    </tr>\n",
              "    <tr>\n",
              "      <th>4397</th>\n",
              "      <td>13:57:18</td>\n",
              "      <td>868</td>\n",
              "      <td>26.1</td>\n",
              "      <td>61.1</td>\n",
              "      <td>151</td>\n",
              "      <td>72</td>\n",
              "      <td>260</td>\n",
              "      <td>101</td>\n",
              "      <td>261</td>\n",
              "      <td>101</td>\n",
              "      <td>72</td>\n",
              "      <td>151</td>\n",
              "      <td>7</td>\n",
              "    </tr>\n",
              "    <tr>\n",
              "      <th>4398</th>\n",
              "      <td>13:57:23</td>\n",
              "      <td>869</td>\n",
              "      <td>26.1</td>\n",
              "      <td>61.1</td>\n",
              "      <td>139</td>\n",
              "      <td>72</td>\n",
              "      <td>260</td>\n",
              "      <td>101</td>\n",
              "      <td>261</td>\n",
              "      <td>101</td>\n",
              "      <td>72</td>\n",
              "      <td>138</td>\n",
              "      <td>7</td>\n",
              "    </tr>\n",
              "  </tbody>\n",
              "</table>\n",
              "<p>4399 rows × 13 columns</p>\n",
              "</div>\n",
              "      <button class=\"colab-df-convert\" onclick=\"convertToInteractive('df-b6d48042-8143-459c-b7d4-ad3dca32fcb9')\"\n",
              "              title=\"Convert this dataframe to an interactive table.\"\n",
              "              style=\"display:none;\">\n",
              "        \n",
              "  <svg xmlns=\"http://www.w3.org/2000/svg\" height=\"24px\"viewBox=\"0 0 24 24\"\n",
              "       width=\"24px\">\n",
              "    <path d=\"M0 0h24v24H0V0z\" fill=\"none\"/>\n",
              "    <path d=\"M18.56 5.44l.94 2.06.94-2.06 2.06-.94-2.06-.94-.94-2.06-.94 2.06-2.06.94zm-11 1L8.5 8.5l.94-2.06 2.06-.94-2.06-.94L8.5 2.5l-.94 2.06-2.06.94zm10 10l.94 2.06.94-2.06 2.06-.94-2.06-.94-.94-2.06-.94 2.06-2.06.94z\"/><path d=\"M17.41 7.96l-1.37-1.37c-.4-.4-.92-.59-1.43-.59-.52 0-1.04.2-1.43.59L10.3 9.45l-7.72 7.72c-.78.78-.78 2.05 0 2.83L4 21.41c.39.39.9.59 1.41.59.51 0 1.02-.2 1.41-.59l7.78-7.78 2.81-2.81c.8-.78.8-2.07 0-2.86zM5.41 20L4 18.59l7.72-7.72 1.47 1.35L5.41 20z\"/>\n",
              "  </svg>\n",
              "      </button>\n",
              "      \n",
              "  <style>\n",
              "    .colab-df-container {\n",
              "      display:flex;\n",
              "      flex-wrap:wrap;\n",
              "      gap: 12px;\n",
              "    }\n",
              "\n",
              "    .colab-df-convert {\n",
              "      background-color: #E8F0FE;\n",
              "      border: none;\n",
              "      border-radius: 50%;\n",
              "      cursor: pointer;\n",
              "      display: none;\n",
              "      fill: #1967D2;\n",
              "      height: 32px;\n",
              "      padding: 0 0 0 0;\n",
              "      width: 32px;\n",
              "    }\n",
              "\n",
              "    .colab-df-convert:hover {\n",
              "      background-color: #E2EBFA;\n",
              "      box-shadow: 0px 1px 2px rgba(60, 64, 67, 0.3), 0px 1px 3px 1px rgba(60, 64, 67, 0.15);\n",
              "      fill: #174EA6;\n",
              "    }\n",
              "\n",
              "    [theme=dark] .colab-df-convert {\n",
              "      background-color: #3B4455;\n",
              "      fill: #D2E3FC;\n",
              "    }\n",
              "\n",
              "    [theme=dark] .colab-df-convert:hover {\n",
              "      background-color: #434B5C;\n",
              "      box-shadow: 0px 1px 3px 1px rgba(0, 0, 0, 0.15);\n",
              "      filter: drop-shadow(0px 1px 2px rgba(0, 0, 0, 0.3));\n",
              "      fill: #FFFFFF;\n",
              "    }\n",
              "  </style>\n",
              "\n",
              "      <script>\n",
              "        const buttonEl =\n",
              "          document.querySelector('#df-b6d48042-8143-459c-b7d4-ad3dca32fcb9 button.colab-df-convert');\n",
              "        buttonEl.style.display =\n",
              "          google.colab.kernel.accessAllowed ? 'block' : 'none';\n",
              "\n",
              "        async function convertToInteractive(key) {\n",
              "          const element = document.querySelector('#df-b6d48042-8143-459c-b7d4-ad3dca32fcb9');\n",
              "          const dataTable =\n",
              "            await google.colab.kernel.invokeFunction('convertToInteractive',\n",
              "                                                     [key], {});\n",
              "          if (!dataTable) return;\n",
              "\n",
              "          const docLinkHtml = 'Like what you see? Visit the ' +\n",
              "            '<a target=\"_blank\" href=https://colab.research.google.com/notebooks/data_table.ipynb>data table notebook</a>'\n",
              "            + ' to learn more about interactive tables.';\n",
              "          element.innerHTML = '';\n",
              "          dataTable['output_type'] = 'display_data';\n",
              "          await google.colab.output.renderOutput(dataTable, element);\n",
              "          const docLink = document.createElement('div');\n",
              "          docLink.innerHTML = docLinkHtml;\n",
              "          element.appendChild(docLink);\n",
              "        }\n",
              "      </script>\n",
              "    </div>\n",
              "  </div>\n",
              "  "
            ]
          },
          "metadata": {},
          "execution_count": 307
        }
      ]
    },
    {
      "cell_type": "code",
      "source": [
        "labels = pd.read_excel('./dataset description.xlsx')\n",
        "labels = labels['NAME'].values\n",
        "labels,labels.shape"
      ],
      "metadata": {
        "colab": {
          "base_uri": "https://localhost:8080/"
        },
        "id": "RCNtGlMWM9Ia",
        "outputId": "164765f4-100e-4e7d-9b66-0ac895014afb"
      },
      "execution_count": 308,
      "outputs": [
        {
          "output_type": "execute_result",
          "data": {
            "text/plain": [
              "(array(['FRESH AIR', 'RAINBOW', 'PATANJALI GONYLE', 'LIZOL',\n",
              "        'PURIC INSTA SAFE', 'PHENYLE NURSE', 'MOPZ NATURE FRESH',\n",
              "        'MOPZ LIME FRESH'], dtype=object),\n",
              " (8,))"
            ]
          },
          "metadata": {},
          "execution_count": 308
        }
      ]
    },
    {
      "cell_type": "code",
      "source": [
        "df.head()"
      ],
      "metadata": {
        "colab": {
          "base_uri": "https://localhost:8080/",
          "height": 206
        },
        "id": "pvzQ7TVhNqn-",
        "outputId": "f5745629-7e8d-4e47-8438-0692657e8aa1"
      },
      "execution_count": 309,
      "outputs": [
        {
          "output_type": "execute_result",
          "data": {
            "text/plain": [
              "         Time  Reading_ID  Temp  Humidity  MQ2  MQ3   MQ4  MQ7   MQ9  MQ135  \\\n",
              "0    12:43:55           2  34.4      45.0  441  274   826  374   830    373   \n",
              "1     12:44:0           3  34.4      44.9  468  285  1024  385  1024    382   \n",
              "2     12:44:5           4  34.3      45.4  536  296  1024  448  1024    446   \n",
              "3    12:44:10           5  34.3      46.1  567  280  1024  469  1024    465   \n",
              "4    12:44:16           6  34.2      46.2  577  264  1024  475  1024    474   \n",
              "\n",
              "   MQ6  MQ8  TARGET  \n",
              "0  272  441       0  \n",
              "1  283  468       0  \n",
              "2  294  537       0  \n",
              "3  278  567       0  \n",
              "4  260  577       0  "
            ],
            "text/html": [
              "\n",
              "  <div id=\"df-ede345af-c226-4eef-8029-affc35cd6740\">\n",
              "    <div class=\"colab-df-container\">\n",
              "      <div>\n",
              "<style scoped>\n",
              "    .dataframe tbody tr th:only-of-type {\n",
              "        vertical-align: middle;\n",
              "    }\n",
              "\n",
              "    .dataframe tbody tr th {\n",
              "        vertical-align: top;\n",
              "    }\n",
              "\n",
              "    .dataframe thead th {\n",
              "        text-align: right;\n",
              "    }\n",
              "</style>\n",
              "<table border=\"1\" class=\"dataframe\">\n",
              "  <thead>\n",
              "    <tr style=\"text-align: right;\">\n",
              "      <th></th>\n",
              "      <th>Time</th>\n",
              "      <th>Reading_ID</th>\n",
              "      <th>Temp</th>\n",
              "      <th>Humidity</th>\n",
              "      <th>MQ2</th>\n",
              "      <th>MQ3</th>\n",
              "      <th>MQ4</th>\n",
              "      <th>MQ7</th>\n",
              "      <th>MQ9</th>\n",
              "      <th>MQ135</th>\n",
              "      <th>MQ6</th>\n",
              "      <th>MQ8</th>\n",
              "      <th>TARGET</th>\n",
              "    </tr>\n",
              "  </thead>\n",
              "  <tbody>\n",
              "    <tr>\n",
              "      <th>0</th>\n",
              "      <td>12:43:55</td>\n",
              "      <td>2</td>\n",
              "      <td>34.4</td>\n",
              "      <td>45.0</td>\n",
              "      <td>441</td>\n",
              "      <td>274</td>\n",
              "      <td>826</td>\n",
              "      <td>374</td>\n",
              "      <td>830</td>\n",
              "      <td>373</td>\n",
              "      <td>272</td>\n",
              "      <td>441</td>\n",
              "      <td>0</td>\n",
              "    </tr>\n",
              "    <tr>\n",
              "      <th>1</th>\n",
              "      <td>12:44:0</td>\n",
              "      <td>3</td>\n",
              "      <td>34.4</td>\n",
              "      <td>44.9</td>\n",
              "      <td>468</td>\n",
              "      <td>285</td>\n",
              "      <td>1024</td>\n",
              "      <td>385</td>\n",
              "      <td>1024</td>\n",
              "      <td>382</td>\n",
              "      <td>283</td>\n",
              "      <td>468</td>\n",
              "      <td>0</td>\n",
              "    </tr>\n",
              "    <tr>\n",
              "      <th>2</th>\n",
              "      <td>12:44:5</td>\n",
              "      <td>4</td>\n",
              "      <td>34.3</td>\n",
              "      <td>45.4</td>\n",
              "      <td>536</td>\n",
              "      <td>296</td>\n",
              "      <td>1024</td>\n",
              "      <td>448</td>\n",
              "      <td>1024</td>\n",
              "      <td>446</td>\n",
              "      <td>294</td>\n",
              "      <td>537</td>\n",
              "      <td>0</td>\n",
              "    </tr>\n",
              "    <tr>\n",
              "      <th>3</th>\n",
              "      <td>12:44:10</td>\n",
              "      <td>5</td>\n",
              "      <td>34.3</td>\n",
              "      <td>46.1</td>\n",
              "      <td>567</td>\n",
              "      <td>280</td>\n",
              "      <td>1024</td>\n",
              "      <td>469</td>\n",
              "      <td>1024</td>\n",
              "      <td>465</td>\n",
              "      <td>278</td>\n",
              "      <td>567</td>\n",
              "      <td>0</td>\n",
              "    </tr>\n",
              "    <tr>\n",
              "      <th>4</th>\n",
              "      <td>12:44:16</td>\n",
              "      <td>6</td>\n",
              "      <td>34.2</td>\n",
              "      <td>46.2</td>\n",
              "      <td>577</td>\n",
              "      <td>264</td>\n",
              "      <td>1024</td>\n",
              "      <td>475</td>\n",
              "      <td>1024</td>\n",
              "      <td>474</td>\n",
              "      <td>260</td>\n",
              "      <td>577</td>\n",
              "      <td>0</td>\n",
              "    </tr>\n",
              "  </tbody>\n",
              "</table>\n",
              "</div>\n",
              "      <button class=\"colab-df-convert\" onclick=\"convertToInteractive('df-ede345af-c226-4eef-8029-affc35cd6740')\"\n",
              "              title=\"Convert this dataframe to an interactive table.\"\n",
              "              style=\"display:none;\">\n",
              "        \n",
              "  <svg xmlns=\"http://www.w3.org/2000/svg\" height=\"24px\"viewBox=\"0 0 24 24\"\n",
              "       width=\"24px\">\n",
              "    <path d=\"M0 0h24v24H0V0z\" fill=\"none\"/>\n",
              "    <path d=\"M18.56 5.44l.94 2.06.94-2.06 2.06-.94-2.06-.94-.94-2.06-.94 2.06-2.06.94zm-11 1L8.5 8.5l.94-2.06 2.06-.94-2.06-.94L8.5 2.5l-.94 2.06-2.06.94zm10 10l.94 2.06.94-2.06 2.06-.94-2.06-.94-.94-2.06-.94 2.06-2.06.94z\"/><path d=\"M17.41 7.96l-1.37-1.37c-.4-.4-.92-.59-1.43-.59-.52 0-1.04.2-1.43.59L10.3 9.45l-7.72 7.72c-.78.78-.78 2.05 0 2.83L4 21.41c.39.39.9.59 1.41.59.51 0 1.02-.2 1.41-.59l7.78-7.78 2.81-2.81c.8-.78.8-2.07 0-2.86zM5.41 20L4 18.59l7.72-7.72 1.47 1.35L5.41 20z\"/>\n",
              "  </svg>\n",
              "      </button>\n",
              "      \n",
              "  <style>\n",
              "    .colab-df-container {\n",
              "      display:flex;\n",
              "      flex-wrap:wrap;\n",
              "      gap: 12px;\n",
              "    }\n",
              "\n",
              "    .colab-df-convert {\n",
              "      background-color: #E8F0FE;\n",
              "      border: none;\n",
              "      border-radius: 50%;\n",
              "      cursor: pointer;\n",
              "      display: none;\n",
              "      fill: #1967D2;\n",
              "      height: 32px;\n",
              "      padding: 0 0 0 0;\n",
              "      width: 32px;\n",
              "    }\n",
              "\n",
              "    .colab-df-convert:hover {\n",
              "      background-color: #E2EBFA;\n",
              "      box-shadow: 0px 1px 2px rgba(60, 64, 67, 0.3), 0px 1px 3px 1px rgba(60, 64, 67, 0.15);\n",
              "      fill: #174EA6;\n",
              "    }\n",
              "\n",
              "    [theme=dark] .colab-df-convert {\n",
              "      background-color: #3B4455;\n",
              "      fill: #D2E3FC;\n",
              "    }\n",
              "\n",
              "    [theme=dark] .colab-df-convert:hover {\n",
              "      background-color: #434B5C;\n",
              "      box-shadow: 0px 1px 3px 1px rgba(0, 0, 0, 0.15);\n",
              "      filter: drop-shadow(0px 1px 2px rgba(0, 0, 0, 0.3));\n",
              "      fill: #FFFFFF;\n",
              "    }\n",
              "  </style>\n",
              "\n",
              "      <script>\n",
              "        const buttonEl =\n",
              "          document.querySelector('#df-ede345af-c226-4eef-8029-affc35cd6740 button.colab-df-convert');\n",
              "        buttonEl.style.display =\n",
              "          google.colab.kernel.accessAllowed ? 'block' : 'none';\n",
              "\n",
              "        async function convertToInteractive(key) {\n",
              "          const element = document.querySelector('#df-ede345af-c226-4eef-8029-affc35cd6740');\n",
              "          const dataTable =\n",
              "            await google.colab.kernel.invokeFunction('convertToInteractive',\n",
              "                                                     [key], {});\n",
              "          if (!dataTable) return;\n",
              "\n",
              "          const docLinkHtml = 'Like what you see? Visit the ' +\n",
              "            '<a target=\"_blank\" href=https://colab.research.google.com/notebooks/data_table.ipynb>data table notebook</a>'\n",
              "            + ' to learn more about interactive tables.';\n",
              "          element.innerHTML = '';\n",
              "          dataTable['output_type'] = 'display_data';\n",
              "          await google.colab.output.renderOutput(dataTable, element);\n",
              "          const docLink = document.createElement('div');\n",
              "          docLink.innerHTML = docLinkHtml;\n",
              "          element.appendChild(docLink);\n",
              "        }\n",
              "      </script>\n",
              "    </div>\n",
              "  </div>\n",
              "  "
            ]
          },
          "metadata": {},
          "execution_count": 309
        }
      ]
    },
    {
      "cell_type": "code",
      "source": [
        "df.drop(['Time','Reading_ID'],inplace=True,axis=1)\n",
        "columns = df.columns\n",
        "columns"
      ],
      "metadata": {
        "colab": {
          "base_uri": "https://localhost:8080/"
        },
        "id": "oDUU-iKkOF98",
        "outputId": "4bfa4643-78c1-4e5d-83b5-c4d6563d3f78"
      },
      "execution_count": 310,
      "outputs": [
        {
          "output_type": "execute_result",
          "data": {
            "text/plain": [
              "Index(['Temp', 'Humidity', 'MQ2', 'MQ3', 'MQ4', 'MQ7', 'MQ9', 'MQ135', 'MQ6',\n",
              "       'MQ8', 'TARGET'],\n",
              "      dtype='object')"
            ]
          },
          "metadata": {},
          "execution_count": 310
        }
      ]
    },
    {
      "cell_type": "code",
      "source": [
        "# df = df.values\n",
        "df_y = df['TARGET']\n",
        "df_y\n",
        "df_x = df.drop(['TARGET'],axis=1)\n",
        "df_x\n",
        "# df.drop(['TARGET'],inplace=True,axis=1)\n"
      ],
      "metadata": {
        "colab": {
          "base_uri": "https://localhost:8080/",
          "height": 423
        },
        "id": "f0fgnUE5OdHX",
        "outputId": "6684288a-9baa-4ba5-bb06-a93524c4bda6"
      },
      "execution_count": 311,
      "outputs": [
        {
          "output_type": "execute_result",
          "data": {
            "text/plain": [
              "      Temp  Humidity  MQ2  MQ3   MQ4  MQ7   MQ9  MQ135  MQ6  MQ8\n",
              "0     34.4      45.0  441  274   826  374   830    373  272  441\n",
              "1     34.4      44.9  468  285  1024  385  1024    382  283  468\n",
              "2     34.3      45.4  536  296  1024  448  1024    446  294  537\n",
              "3     34.3      46.1  567  280  1024  469  1024    465  278  567\n",
              "4     34.2      46.2  577  264  1024  475  1024    474  260  577\n",
              "...    ...       ...  ...  ...   ...  ...   ...    ...  ...  ...\n",
              "4394  26.0      61.1  148   72   256  101   257    100   72  148\n",
              "4395  26.1      61.1  164   72   257  101   258    101   72  163\n",
              "4396  26.1      61.1  163   73   260  101   261    101   72  163\n",
              "4397  26.1      61.1  151   72   260  101   261    101   72  151\n",
              "4398  26.1      61.1  139   72   260  101   261    101   72  138\n",
              "\n",
              "[4399 rows x 10 columns]"
            ],
            "text/html": [
              "\n",
              "  <div id=\"df-0848a144-8dc7-4502-a9c6-9164ba299443\">\n",
              "    <div class=\"colab-df-container\">\n",
              "      <div>\n",
              "<style scoped>\n",
              "    .dataframe tbody tr th:only-of-type {\n",
              "        vertical-align: middle;\n",
              "    }\n",
              "\n",
              "    .dataframe tbody tr th {\n",
              "        vertical-align: top;\n",
              "    }\n",
              "\n",
              "    .dataframe thead th {\n",
              "        text-align: right;\n",
              "    }\n",
              "</style>\n",
              "<table border=\"1\" class=\"dataframe\">\n",
              "  <thead>\n",
              "    <tr style=\"text-align: right;\">\n",
              "      <th></th>\n",
              "      <th>Temp</th>\n",
              "      <th>Humidity</th>\n",
              "      <th>MQ2</th>\n",
              "      <th>MQ3</th>\n",
              "      <th>MQ4</th>\n",
              "      <th>MQ7</th>\n",
              "      <th>MQ9</th>\n",
              "      <th>MQ135</th>\n",
              "      <th>MQ6</th>\n",
              "      <th>MQ8</th>\n",
              "    </tr>\n",
              "  </thead>\n",
              "  <tbody>\n",
              "    <tr>\n",
              "      <th>0</th>\n",
              "      <td>34.4</td>\n",
              "      <td>45.0</td>\n",
              "      <td>441</td>\n",
              "      <td>274</td>\n",
              "      <td>826</td>\n",
              "      <td>374</td>\n",
              "      <td>830</td>\n",
              "      <td>373</td>\n",
              "      <td>272</td>\n",
              "      <td>441</td>\n",
              "    </tr>\n",
              "    <tr>\n",
              "      <th>1</th>\n",
              "      <td>34.4</td>\n",
              "      <td>44.9</td>\n",
              "      <td>468</td>\n",
              "      <td>285</td>\n",
              "      <td>1024</td>\n",
              "      <td>385</td>\n",
              "      <td>1024</td>\n",
              "      <td>382</td>\n",
              "      <td>283</td>\n",
              "      <td>468</td>\n",
              "    </tr>\n",
              "    <tr>\n",
              "      <th>2</th>\n",
              "      <td>34.3</td>\n",
              "      <td>45.4</td>\n",
              "      <td>536</td>\n",
              "      <td>296</td>\n",
              "      <td>1024</td>\n",
              "      <td>448</td>\n",
              "      <td>1024</td>\n",
              "      <td>446</td>\n",
              "      <td>294</td>\n",
              "      <td>537</td>\n",
              "    </tr>\n",
              "    <tr>\n",
              "      <th>3</th>\n",
              "      <td>34.3</td>\n",
              "      <td>46.1</td>\n",
              "      <td>567</td>\n",
              "      <td>280</td>\n",
              "      <td>1024</td>\n",
              "      <td>469</td>\n",
              "      <td>1024</td>\n",
              "      <td>465</td>\n",
              "      <td>278</td>\n",
              "      <td>567</td>\n",
              "    </tr>\n",
              "    <tr>\n",
              "      <th>4</th>\n",
              "      <td>34.2</td>\n",
              "      <td>46.2</td>\n",
              "      <td>577</td>\n",
              "      <td>264</td>\n",
              "      <td>1024</td>\n",
              "      <td>475</td>\n",
              "      <td>1024</td>\n",
              "      <td>474</td>\n",
              "      <td>260</td>\n",
              "      <td>577</td>\n",
              "    </tr>\n",
              "    <tr>\n",
              "      <th>...</th>\n",
              "      <td>...</td>\n",
              "      <td>...</td>\n",
              "      <td>...</td>\n",
              "      <td>...</td>\n",
              "      <td>...</td>\n",
              "      <td>...</td>\n",
              "      <td>...</td>\n",
              "      <td>...</td>\n",
              "      <td>...</td>\n",
              "      <td>...</td>\n",
              "    </tr>\n",
              "    <tr>\n",
              "      <th>4394</th>\n",
              "      <td>26.0</td>\n",
              "      <td>61.1</td>\n",
              "      <td>148</td>\n",
              "      <td>72</td>\n",
              "      <td>256</td>\n",
              "      <td>101</td>\n",
              "      <td>257</td>\n",
              "      <td>100</td>\n",
              "      <td>72</td>\n",
              "      <td>148</td>\n",
              "    </tr>\n",
              "    <tr>\n",
              "      <th>4395</th>\n",
              "      <td>26.1</td>\n",
              "      <td>61.1</td>\n",
              "      <td>164</td>\n",
              "      <td>72</td>\n",
              "      <td>257</td>\n",
              "      <td>101</td>\n",
              "      <td>258</td>\n",
              "      <td>101</td>\n",
              "      <td>72</td>\n",
              "      <td>163</td>\n",
              "    </tr>\n",
              "    <tr>\n",
              "      <th>4396</th>\n",
              "      <td>26.1</td>\n",
              "      <td>61.1</td>\n",
              "      <td>163</td>\n",
              "      <td>73</td>\n",
              "      <td>260</td>\n",
              "      <td>101</td>\n",
              "      <td>261</td>\n",
              "      <td>101</td>\n",
              "      <td>72</td>\n",
              "      <td>163</td>\n",
              "    </tr>\n",
              "    <tr>\n",
              "      <th>4397</th>\n",
              "      <td>26.1</td>\n",
              "      <td>61.1</td>\n",
              "      <td>151</td>\n",
              "      <td>72</td>\n",
              "      <td>260</td>\n",
              "      <td>101</td>\n",
              "      <td>261</td>\n",
              "      <td>101</td>\n",
              "      <td>72</td>\n",
              "      <td>151</td>\n",
              "    </tr>\n",
              "    <tr>\n",
              "      <th>4398</th>\n",
              "      <td>26.1</td>\n",
              "      <td>61.1</td>\n",
              "      <td>139</td>\n",
              "      <td>72</td>\n",
              "      <td>260</td>\n",
              "      <td>101</td>\n",
              "      <td>261</td>\n",
              "      <td>101</td>\n",
              "      <td>72</td>\n",
              "      <td>138</td>\n",
              "    </tr>\n",
              "  </tbody>\n",
              "</table>\n",
              "<p>4399 rows × 10 columns</p>\n",
              "</div>\n",
              "      <button class=\"colab-df-convert\" onclick=\"convertToInteractive('df-0848a144-8dc7-4502-a9c6-9164ba299443')\"\n",
              "              title=\"Convert this dataframe to an interactive table.\"\n",
              "              style=\"display:none;\">\n",
              "        \n",
              "  <svg xmlns=\"http://www.w3.org/2000/svg\" height=\"24px\"viewBox=\"0 0 24 24\"\n",
              "       width=\"24px\">\n",
              "    <path d=\"M0 0h24v24H0V0z\" fill=\"none\"/>\n",
              "    <path d=\"M18.56 5.44l.94 2.06.94-2.06 2.06-.94-2.06-.94-.94-2.06-.94 2.06-2.06.94zm-11 1L8.5 8.5l.94-2.06 2.06-.94-2.06-.94L8.5 2.5l-.94 2.06-2.06.94zm10 10l.94 2.06.94-2.06 2.06-.94-2.06-.94-.94-2.06-.94 2.06-2.06.94z\"/><path d=\"M17.41 7.96l-1.37-1.37c-.4-.4-.92-.59-1.43-.59-.52 0-1.04.2-1.43.59L10.3 9.45l-7.72 7.72c-.78.78-.78 2.05 0 2.83L4 21.41c.39.39.9.59 1.41.59.51 0 1.02-.2 1.41-.59l7.78-7.78 2.81-2.81c.8-.78.8-2.07 0-2.86zM5.41 20L4 18.59l7.72-7.72 1.47 1.35L5.41 20z\"/>\n",
              "  </svg>\n",
              "      </button>\n",
              "      \n",
              "  <style>\n",
              "    .colab-df-container {\n",
              "      display:flex;\n",
              "      flex-wrap:wrap;\n",
              "      gap: 12px;\n",
              "    }\n",
              "\n",
              "    .colab-df-convert {\n",
              "      background-color: #E8F0FE;\n",
              "      border: none;\n",
              "      border-radius: 50%;\n",
              "      cursor: pointer;\n",
              "      display: none;\n",
              "      fill: #1967D2;\n",
              "      height: 32px;\n",
              "      padding: 0 0 0 0;\n",
              "      width: 32px;\n",
              "    }\n",
              "\n",
              "    .colab-df-convert:hover {\n",
              "      background-color: #E2EBFA;\n",
              "      box-shadow: 0px 1px 2px rgba(60, 64, 67, 0.3), 0px 1px 3px 1px rgba(60, 64, 67, 0.15);\n",
              "      fill: #174EA6;\n",
              "    }\n",
              "\n",
              "    [theme=dark] .colab-df-convert {\n",
              "      background-color: #3B4455;\n",
              "      fill: #D2E3FC;\n",
              "    }\n",
              "\n",
              "    [theme=dark] .colab-df-convert:hover {\n",
              "      background-color: #434B5C;\n",
              "      box-shadow: 0px 1px 3px 1px rgba(0, 0, 0, 0.15);\n",
              "      filter: drop-shadow(0px 1px 2px rgba(0, 0, 0, 0.3));\n",
              "      fill: #FFFFFF;\n",
              "    }\n",
              "  </style>\n",
              "\n",
              "      <script>\n",
              "        const buttonEl =\n",
              "          document.querySelector('#df-0848a144-8dc7-4502-a9c6-9164ba299443 button.colab-df-convert');\n",
              "        buttonEl.style.display =\n",
              "          google.colab.kernel.accessAllowed ? 'block' : 'none';\n",
              "\n",
              "        async function convertToInteractive(key) {\n",
              "          const element = document.querySelector('#df-0848a144-8dc7-4502-a9c6-9164ba299443');\n",
              "          const dataTable =\n",
              "            await google.colab.kernel.invokeFunction('convertToInteractive',\n",
              "                                                     [key], {});\n",
              "          if (!dataTable) return;\n",
              "\n",
              "          const docLinkHtml = 'Like what you see? Visit the ' +\n",
              "            '<a target=\"_blank\" href=https://colab.research.google.com/notebooks/data_table.ipynb>data table notebook</a>'\n",
              "            + ' to learn more about interactive tables.';\n",
              "          element.innerHTML = '';\n",
              "          dataTable['output_type'] = 'display_data';\n",
              "          await google.colab.output.renderOutput(dataTable, element);\n",
              "          const docLink = document.createElement('div');\n",
              "          docLink.innerHTML = docLinkHtml;\n",
              "          element.appendChild(docLink);\n",
              "        }\n",
              "      </script>\n",
              "    </div>\n",
              "  </div>\n",
              "  "
            ]
          },
          "metadata": {},
          "execution_count": 311
        }
      ]
    },
    {
      "cell_type": "code",
      "source": [
        "from sklearn.preprocessing import OneHotEncoder\n",
        "ohe = OneHotEncoder()\n",
        "y_ohe  = ohe.fit_transform(df[['TARGET']]).toarray()\n",
        "y_ohe"
      ],
      "metadata": {
        "colab": {
          "base_uri": "https://localhost:8080/"
        },
        "id": "uXRekibuRsP5",
        "outputId": "72617e2b-cab6-4fed-e0b4-b6bc265bc26d"
      },
      "execution_count": 312,
      "outputs": [
        {
          "output_type": "execute_result",
          "data": {
            "text/plain": [
              "array([[1., 0., 0., ..., 0., 0., 0.],\n",
              "       [1., 0., 0., ..., 0., 0., 0.],\n",
              "       [1., 0., 0., ..., 0., 0., 0.],\n",
              "       ...,\n",
              "       [0., 0., 0., ..., 0., 0., 1.],\n",
              "       [0., 0., 0., ..., 0., 0., 1.],\n",
              "       [0., 0., 0., ..., 0., 0., 1.]])"
            ]
          },
          "metadata": {},
          "execution_count": 312
        }
      ]
    },
    {
      "cell_type": "code",
      "source": [
        "x_data = df_x.values\n",
        "y_data = df_y.values\n",
        "y_data_ohe = y_ohe\n",
        "x_data,y_data,x_data.shape,y_data_ohe,y_data.shape\n",
        "\n"
      ],
      "metadata": {
        "colab": {
          "base_uri": "https://localhost:8080/"
        },
        "id": "EdPzSGDPO9Ky",
        "outputId": "31131630-316e-44f5-b233-146017640000"
      },
      "execution_count": 313,
      "outputs": [
        {
          "output_type": "execute_result",
          "data": {
            "text/plain": [
              "(array([[ 34.4,  45. , 441. , ..., 373. , 272. , 441. ],\n",
              "        [ 34.4,  44.9, 468. , ..., 382. , 283. , 468. ],\n",
              "        [ 34.3,  45.4, 536. , ..., 446. , 294. , 537. ],\n",
              "        ...,\n",
              "        [ 26.1,  61.1, 163. , ..., 101. ,  72. , 163. ],\n",
              "        [ 26.1,  61.1, 151. , ..., 101. ,  72. , 151. ],\n",
              "        [ 26.1,  61.1, 139. , ..., 101. ,  72. , 138. ]]),\n",
              " array([0, 0, 0, ..., 7, 7, 7]),\n",
              " (4399, 10),\n",
              " array([[1., 0., 0., ..., 0., 0., 0.],\n",
              "        [1., 0., 0., ..., 0., 0., 0.],\n",
              "        [1., 0., 0., ..., 0., 0., 0.],\n",
              "        ...,\n",
              "        [0., 0., 0., ..., 0., 0., 1.],\n",
              "        [0., 0., 0., ..., 0., 0., 1.],\n",
              "        [0., 0., 0., ..., 0., 0., 1.]]),\n",
              " (4399,))"
            ]
          },
          "metadata": {},
          "execution_count": 313
        }
      ]
    },
    {
      "cell_type": "code",
      "source": [],
      "metadata": {
        "id": "3xDX4KTbO939"
      },
      "execution_count": 313,
      "outputs": []
    },
    {
      "cell_type": "code",
      "source": [
        "from sklearn.model_selection import train_test_split\n",
        "x_train, x_test, y_train, y_test = train_test_split(x_data, y_data_ohe, test_size=0.33, random_state=42)\n",
        "\n",
        "\n",
        "from sklearn.preprocessing import StandardScaler\n",
        "sc = StandardScaler()\n",
        "x_train = sc.fit_transform(x_train)\n",
        "x_test = sc.fit_transform(x_test)"
      ],
      "metadata": {
        "id": "YZWX7uLCRYi4"
      },
      "execution_count": 314,
      "outputs": []
    },
    {
      "cell_type": "code",
      "source": [
        "x_train,x_test"
      ],
      "metadata": {
        "colab": {
          "base_uri": "https://localhost:8080/"
        },
        "id": "5RPl5KxiSklQ",
        "outputId": "49f76c35-9352-4e04-b126-976acd9e0ee3"
      },
      "execution_count": 315,
      "outputs": [
        {
          "output_type": "execute_result",
          "data": {
            "text/plain": [
              "(array([[-0.15925995,  0.30868432, -0.45009107, ..., -0.41744061,\n",
              "         -0.93862933, -0.44803611],\n",
              "        [ 0.0369247 , -0.01237375,  0.07168286, ..., -0.24435863,\n",
              "         -0.51040699,  0.07339467],\n",
              "        [-0.02847018, -0.11376051, -0.51147624, ..., -0.45205701,\n",
              "         -0.89470909, -0.50938091],\n",
              "        ...,\n",
              "        [-0.02847018,  0.27488873,  0.04866342, ..., -0.27032093,\n",
              "         -0.26884567,  0.05039037],\n",
              "        [-0.22465483,  0.3424799 , -0.46543736, ..., -0.43474881,\n",
              "         -0.90568915, -0.46337231],\n",
              "        [-1.4671576 ,  1.66050775,  1.66002408, ...,  2.33456289,\n",
              "          2.90439166,  1.66069131]]),\n",
              " array([[ 1.63589534e-01,  1.24900397e-02, -4.03460863e-03, ...,\n",
              "         -2.49564247e-01, -4.89474078e-01, -2.36786949e-03],\n",
              "        [ 3.55054125e-02, -7.96837235e-01, -5.37285728e-01, ...,\n",
              "         -4.79142039e-01, -8.83036779e-01, -5.42862517e-01],\n",
              "        [-1.56620770e-01,  3.92378352e-01, -4.62179936e-01, ...,\n",
              "         -4.36627633e-01, -9.75639768e-01, -4.60286945e-01],\n",
              "        ...,\n",
              "        [ 4.51844967e+00, -2.56414373e+00,  2.72981620e+00, ...,\n",
              "          2.75195281e+00,  6.56487905e-01,  2.73013285e+00],\n",
              "        [-2.85366483e-02, -4.02684342e-03, -5.14753990e-01, ...,\n",
              "         -4.62136277e-01, -9.40913647e-01, -5.12835036e-01],\n",
              "        [ 9.95474733e-02,  6.20406892e-02, -1.90557669e-02, ...,\n",
              "         -2.32558485e-01, -4.66323331e-01, -1.73816097e-02]]))"
            ]
          },
          "metadata": {},
          "execution_count": 315
        }
      ]
    },
    {
      "cell_type": "code",
      "source": [
        "def scaler(arr):\n",
        "  from sklearn.preprocessing import StandardScaler\n",
        "  sc = StandardScaler()\n",
        "  arr_ = sc.fit_transform(arr)\n",
        "  # x_test = sc.fit_transform(x_test)\n",
        "  return arr_\n"
      ],
      "metadata": {
        "id": "6yp3p_9VSmzV"
      },
      "execution_count": 316,
      "outputs": []
    },
    {
      "cell_type": "code",
      "source": [
        "ann = tf.keras.models.Sequential()"
      ],
      "metadata": {
        "id": "EyCDZS4tS4UL"
      },
      "execution_count": 317,
      "outputs": []
    },
    {
      "cell_type": "code",
      "source": [
        "# ann.add(tf.keras.layers.Dense)\n",
        "ann.add(tf.keras.layers.Dense(units=10,input_shape=(10,),activation='relu'))\n"
      ],
      "metadata": {
        "id": "PlVsZ7GyTMfN"
      },
      "execution_count": 318,
      "outputs": []
    },
    {
      "cell_type": "code",
      "source": [
        "ann.add(tf.keras.layers.Dense(units=64,activation='relu'))\n",
        "ann.add(tf.keras.layers.Dense(units=128,activation='relu'))\n",
        "ann.add(tf.keras.layers.Dense(units=64,activation='relu'))\n",
        "ann.add(tf.keras.layers.Dense(units=8,activation='softmax'))"
      ],
      "metadata": {
        "id": "Ja6ASQeGTgNs"
      },
      "execution_count": 319,
      "outputs": []
    },
    {
      "cell_type": "code",
      "source": [
        "y_train"
      ],
      "metadata": {
        "colab": {
          "base_uri": "https://localhost:8080/"
        },
        "id": "xM3X5URLVEWl",
        "outputId": "126f1e9e-1a56-4177-a9e8-3194aa36b819"
      },
      "execution_count": 320,
      "outputs": [
        {
          "output_type": "execute_result",
          "data": {
            "text/plain": [
              "array([[0., 0., 0., ..., 0., 0., 1.],\n",
              "       [0., 0., 0., ..., 0., 0., 0.],\n",
              "       [0., 0., 0., ..., 0., 1., 0.],\n",
              "       ...,\n",
              "       [0., 0., 0., ..., 1., 0., 0.],\n",
              "       [0., 0., 0., ..., 0., 0., 1.],\n",
              "       [0., 0., 1., ..., 0., 0., 0.]])"
            ]
          },
          "metadata": {},
          "execution_count": 320
        }
      ]
    },
    {
      "cell_type": "code",
      "source": [
        "ann.compile(\n",
        "    optimizer='Adam',\n",
        "    loss=tf.keras.losses.CategoricalCrossentropy(),\n",
        "    metrics=['accuracy']\n",
        ")\n",
        "ann.fit(x_train,y_train,epochs=10)\n",
        "# SGD\n",
        "# RMSprop\n",
        "# Adam\n",
        "# AdamW\n",
        "# Adadelta\n",
        "# Adagrad\n",
        "# Adamax\n",
        "# Adafactor\n",
        "# Nadam\n",
        "# Ftrl"
      ],
      "metadata": {
        "colab": {
          "base_uri": "https://localhost:8080/"
        },
        "id": "NBtRnD7SVFN_",
        "outputId": "c7a4d26b-61bf-4eb6-9ff5-86cedbea106b"
      },
      "execution_count": 321,
      "outputs": [
        {
          "output_type": "stream",
          "name": "stdout",
          "text": [
            "Epoch 1/10\n",
            "93/93 [==============================] - 1s 2ms/step - loss: 1.1991 - accuracy: 0.6390\n",
            "Epoch 2/10\n",
            "93/93 [==============================] - 0s 2ms/step - loss: 0.3435 - accuracy: 0.9040\n",
            "Epoch 3/10\n",
            "93/93 [==============================] - 0s 2ms/step - loss: 0.2260 - accuracy: 0.9318\n",
            "Epoch 4/10\n",
            "93/93 [==============================] - 0s 2ms/step - loss: 0.1646 - accuracy: 0.9542\n",
            "Epoch 5/10\n",
            "93/93 [==============================] - 0s 2ms/step - loss: 0.1463 - accuracy: 0.9634\n",
            "Epoch 6/10\n",
            "93/93 [==============================] - 0s 2ms/step - loss: 0.1272 - accuracy: 0.9667\n",
            "Epoch 7/10\n",
            "93/93 [==============================] - 0s 2ms/step - loss: 0.1101 - accuracy: 0.9722\n",
            "Epoch 8/10\n",
            "93/93 [==============================] - 0s 2ms/step - loss: 0.0969 - accuracy: 0.9779\n",
            "Epoch 9/10\n",
            "93/93 [==============================] - 0s 2ms/step - loss: 0.0876 - accuracy: 0.9786\n",
            "Epoch 10/10\n",
            "93/93 [==============================] - 0s 3ms/step - loss: 0.0799 - accuracy: 0.9820\n"
          ]
        },
        {
          "output_type": "execute_result",
          "data": {
            "text/plain": [
              "<keras.callbacks.History at 0x7f0a123596a0>"
            ]
          },
          "metadata": {},
          "execution_count": 321
        }
      ]
    },
    {
      "cell_type": "code",
      "source": [
        "y_pred = ann.predict(x_test)\n",
        "y_pred[0]\n",
        "y_pred = [np.argmax(i) for i in y_pred]\n",
        "y_pred[0]"
      ],
      "metadata": {
        "colab": {
          "base_uri": "https://localhost:8080/"
        },
        "id": "T-rxj821VSCz",
        "outputId": "fc791567-e341-4540-acb5-775cad3ef596"
      },
      "execution_count": 331,
      "outputs": [
        {
          "output_type": "stream",
          "name": "stdout",
          "text": [
            "46/46 [==============================] - 0s 1ms/step\n"
          ]
        },
        {
          "output_type": "execute_result",
          "data": {
            "text/plain": [
              "4"
            ]
          },
          "metadata": {},
          "execution_count": 331
        }
      ]
    },
    {
      "cell_type": "code",
      "source": [
        "y_test = [np.argmax(i) for i in y_test]\n",
        "\n",
        "y_test[0]"
      ],
      "metadata": {
        "colab": {
          "base_uri": "https://localhost:8080/"
        },
        "id": "meoUFcimVn0i",
        "outputId": "3db31053-66a2-4afe-9895-cbfbbfefd60f"
      },
      "execution_count": 332,
      "outputs": [
        {
          "output_type": "execute_result",
          "data": {
            "text/plain": [
              "4"
            ]
          },
          "metadata": {},
          "execution_count": 332
        }
      ]
    },
    {
      "cell_type": "code",
      "source": [
        "# confusion matrix\n",
        "import matplotlib.pyplot as plt\n",
        "\n",
        "import seaborn as sn\n",
        "cm = tf.math.confusion_matrix(labels=y_test,predictions=y_pred)\n",
        "\n",
        "plt.figure(figsize = (10,7))\n",
        "sn.heatmap(cm, annot=True, fmt='d')\n",
        "plt.xlabel('Predicted')\n",
        "plt.ylabel('Truth')"
      ],
      "metadata": {
        "colab": {
          "base_uri": "https://localhost:8080/",
          "height": 637
        },
        "id": "o2ZeFzADVrhB",
        "outputId": "7e33640b-cdb6-4e1d-cd31-2ab64ac5f805"
      },
      "execution_count": 333,
      "outputs": [
        {
          "output_type": "execute_result",
          "data": {
            "text/plain": [
              "Text(95.72222222222221, 0.5, 'Truth')"
            ]
          },
          "metadata": {},
          "execution_count": 333
        },
        {
          "output_type": "display_data",
          "data": {
            "text/plain": [
              "<Figure size 1000x700 with 2 Axes>"
            ],
            "image/png": "[encoded data removed]"
          },
          "metadata": {}
        }
      ]
    },
    {
      "cell_type": "code",
      "source": [],
      "metadata": {
        "id": "OMp5yMV5Vu4u"
      },
      "execution_count": null,
      "outputs": []
    }
  ]
}