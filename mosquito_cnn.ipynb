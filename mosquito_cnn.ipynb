{
  "nbformat": 4,
  "nbformat_minor": 0,
  "metadata": {
    "colab": {
      "provenance": [],
      "authorship_tag": "ABX9TyNaNEC64p6nXjLE7XxS87dv",
      "include_colab_link": true
    },
    "kernelspec": {
      "name": "python3",
      "display_name": "Python 3"
    },
    "language_info": {
      "name": "python"
    }
  },
  "cells": [
    {
      "cell_type": "markdown",
      "metadata": {
        "id": "view-in-github",
        "colab_type": "text"
      },
      "source": [
        "<a href=\"https://colab.research.google.com/github/Hemant9785/deep-learning-/blob/main/mosquito_cnn.ipynb\" target=\"_parent\"><img src=\"https://colab.research.google.com/assets/colab-badge.svg\" alt=\"Open In Colab\"/></a>"
      ]
    },
    {
      "cell_type": "code",
      "execution_count": 39,
      "metadata": {
        "id": "UX9Lk1r4HP9e"
      },
      "outputs": [],
      "source": [
        "# Import library\n",
        "from math import sqrt\n",
        "from numpy import split\n",
        "from numpy import array\n",
        "from pandas import read_csv\n",
        "from sklearn.metrics import mean_squared_error\n",
        "from keras.models import Sequential\n",
        "from keras.layers import Dense\n",
        "from keras.layers import Dropout\n",
        "from keras.layers import Flatten\n",
        "from keras.layers import TimeDistributed\n",
        "from keras.layers.convolutional import Conv1D\n",
        "from keras.layers.convolutional import MaxPooling1D\n",
        "import matplotlib.pyplot as plt\n",
        "import math\n",
        "from sklearn.preprocessing import MinMaxScaler\n",
        "import numpy as np\n",
        "from sklearn.model_selection import train_test_split\n",
        "import pandas as pd\n",
        "from datetime import datetime\n",
        "import matplotlib.dates as mdates\n",
        "from keras import optimizers\n",
        "from sklearn.metrics import mean_absolute_error\n",
        "from sklearn.metrics import mean_absolute_percentage_error\n",
        "from sklearn.metrics import r2_score\n",
        "from numpy import savetxt\n",
        "import seaborn as sns"
      ]
    },
    {
      "cell_type": "code",
      "source": [
        "data = pd.read_excel('/content/Mosquito_EXP.xlsx')\n",
        "data.iloc[0:5]"
      ],
      "metadata": {
        "colab": {
          "base_uri": "https://localhost:8080/",
          "height": 206
        },
        "id": "PTfCSEW0H2lH",
        "outputId": "9972baca-99e0-4be9-8763-897989ee630d"
      },
      "execution_count": 40,
      "outputs": [
        {
          "output_type": "execute_result",
          "data": {
            "text/plain": [
              "   MQ2  MQ3  MQ4  MQ7  MQ9  MQ135  MQ6  MQ8  Temp  Humidity        Gas\n",
              "0   31   88   65   96   65     96   88   31  31.4      45.8  Fresh Air\n",
              "1   40  159  210  176  213    176  158   40  31.4      45.7  Fresh Air\n",
              "2   41  185  355  223  357    223  183   41  31.4      45.6  Fresh Air\n",
              "3   41  192  459  249  460    249  189   41  31.5      45.7  Fresh Air\n",
              "4   41  196  516  266  518    265  194   41  31.5      44.5  Fresh Air"
            ],
            "text/html": [
              "\n",
              "  <div id=\"df-06910910-e653-449c-8d7f-8908c749fdbe\">\n",
              "    <div class=\"colab-df-container\">\n",
              "      <div>\n",
              "<style scoped>\n",
              "    .dataframe tbody tr th:only-of-type {\n",
              "        vertical-align: middle;\n",
              "    }\n",
              "\n",
              "    .dataframe tbody tr th {\n",
              "        vertical-align: top;\n",
              "    }\n",
              "\n",
              "    .dataframe thead th {\n",
              "        text-align: right;\n",
              "    }\n",
              "</style>\n",
              "<table border=\"1\" class=\"dataframe\">\n",
              "  <thead>\n",
              "    <tr style=\"text-align: right;\">\n",
              "      <th></th>\n",
              "      <th>MQ2</th>\n",
              "      <th>MQ3</th>\n",
              "      <th>MQ4</th>\n",
              "      <th>MQ7</th>\n",
              "      <th>MQ9</th>\n",
              "      <th>MQ135</th>\n",
              "      <th>MQ6</th>\n",
              "      <th>MQ8</th>\n",
              "      <th>Temp</th>\n",
              "      <th>Humidity</th>\n",
              "      <th>Gas</th>\n",
              "    </tr>\n",
              "  </thead>\n",
              "  <tbody>\n",
              "    <tr>\n",
              "      <th>0</th>\n",
              "      <td>31</td>\n",
              "      <td>88</td>\n",
              "      <td>65</td>\n",
              "      <td>96</td>\n",
              "      <td>65</td>\n",
              "      <td>96</td>\n",
              "      <td>88</td>\n",
              "      <td>31</td>\n",
              "      <td>31.4</td>\n",
              "      <td>45.8</td>\n",
              "      <td>Fresh Air</td>\n",
              "    </tr>\n",
              "    <tr>\n",
              "      <th>1</th>\n",
              "      <td>40</td>\n",
              "      <td>159</td>\n",
              "      <td>210</td>\n",
              "      <td>176</td>\n",
              "      <td>213</td>\n",
              "      <td>176</td>\n",
              "      <td>158</td>\n",
              "      <td>40</td>\n",
              "      <td>31.4</td>\n",
              "      <td>45.7</td>\n",
              "      <td>Fresh Air</td>\n",
              "    </tr>\n",
              "    <tr>\n",
              "      <th>2</th>\n",
              "      <td>41</td>\n",
              "      <td>185</td>\n",
              "      <td>355</td>\n",
              "      <td>223</td>\n",
              "      <td>357</td>\n",
              "      <td>223</td>\n",
              "      <td>183</td>\n",
              "      <td>41</td>\n",
              "      <td>31.4</td>\n",
              "      <td>45.6</td>\n",
              "      <td>Fresh Air</td>\n",
              "    </tr>\n",
              "    <tr>\n",
              "      <th>3</th>\n",
              "      <td>41</td>\n",
              "      <td>192</td>\n",
              "      <td>459</td>\n",
              "      <td>249</td>\n",
              "      <td>460</td>\n",
              "      <td>249</td>\n",
              "      <td>189</td>\n",
              "      <td>41</td>\n",
              "      <td>31.5</td>\n",
              "      <td>45.7</td>\n",
              "      <td>Fresh Air</td>\n",
              "    </tr>\n",
              "    <tr>\n",
              "      <th>4</th>\n",
              "      <td>41</td>\n",
              "      <td>196</td>\n",
              "      <td>516</td>\n",
              "      <td>266</td>\n",
              "      <td>518</td>\n",
              "      <td>265</td>\n",
              "      <td>194</td>\n",
              "      <td>41</td>\n",
              "      <td>31.5</td>\n",
              "      <td>44.5</td>\n",
              "      <td>Fresh Air</td>\n",
              "    </tr>\n",
              "  </tbody>\n",
              "</table>\n",
              "</div>\n",
              "      <button class=\"colab-df-convert\" onclick=\"convertToInteractive('df-06910910-e653-449c-8d7f-8908c749fdbe')\"\n",
              "              title=\"Convert this dataframe to an interactive table.\"\n",
              "              style=\"display:none;\">\n",
              "        \n",
              "  <svg xmlns=\"http://www.w3.org/2000/svg\" height=\"24px\"viewBox=\"0 0 24 24\"\n",
              "       width=\"24px\">\n",
              "    <path d=\"M0 0h24v24H0V0z\" fill=\"none\"/>\n",
              "    <path d=\"M18.56 5.44l.94 2.06.94-2.06 2.06-.94-2.06-.94-.94-2.06-.94 2.06-2.06.94zm-11 1L8.5 8.5l.94-2.06 2.06-.94-2.06-.94L8.5 2.5l-.94 2.06-2.06.94zm10 10l.94 2.06.94-2.06 2.06-.94-2.06-.94-.94-2.06-.94 2.06-2.06.94z\"/><path d=\"M17.41 7.96l-1.37-1.37c-.4-.4-.92-.59-1.43-.59-.52 0-1.04.2-1.43.59L10.3 9.45l-7.72 7.72c-.78.78-.78 2.05 0 2.83L4 21.41c.39.39.9.59 1.41.59.51 0 1.02-.2 1.41-.59l7.78-7.78 2.81-2.81c.8-.78.8-2.07 0-2.86zM5.41 20L4 18.59l7.72-7.72 1.47 1.35L5.41 20z\"/>\n",
              "  </svg>\n",
              "      </button>\n",
              "      \n",
              "  <style>\n",
              "    .colab-df-container {\n",
              "      display:flex;\n",
              "      flex-wrap:wrap;\n",
              "      gap: 12px;\n",
              "    }\n",
              "\n",
              "    .colab-df-convert {\n",
              "      background-color: #E8F0FE;\n",
              "      border: none;\n",
              "      border-radius: 50%;\n",
              "      cursor: pointer;\n",
              "      display: none;\n",
              "      fill: #1967D2;\n",
              "      height: 32px;\n",
              "      padding: 0 0 0 0;\n",
              "      width: 32px;\n",
              "    }\n",
              "\n",
              "    .colab-df-convert:hover {\n",
              "      background-color: #E2EBFA;\n",
              "      box-shadow: 0px 1px 2px rgba(60, 64, 67, 0.3), 0px 1px 3px 1px rgba(60, 64, 67, 0.15);\n",
              "      fill: #174EA6;\n",
              "    }\n",
              "\n",
              "    [theme=dark] .colab-df-convert {\n",
              "      background-color: #3B4455;\n",
              "      fill: #D2E3FC;\n",
              "    }\n",
              "\n",
              "    [theme=dark] .colab-df-convert:hover {\n",
              "      background-color: #434B5C;\n",
              "      box-shadow: 0px 1px 3px 1px rgba(0, 0, 0, 0.15);\n",
              "      filter: drop-shadow(0px 1px 2px rgba(0, 0, 0, 0.3));\n",
              "      fill: #FFFFFF;\n",
              "    }\n",
              "  </style>\n",
              "\n",
              "      <script>\n",
              "        const buttonEl =\n",
              "          document.querySelector('#df-06910910-e653-449c-8d7f-8908c749fdbe button.colab-df-convert');\n",
              "        buttonEl.style.display =\n",
              "          google.colab.kernel.accessAllowed ? 'block' : 'none';\n",
              "\n",
              "        async function convertToInteractive(key) {\n",
              "          const element = document.querySelector('#df-06910910-e653-449c-8d7f-8908c749fdbe');\n",
              "          const dataTable =\n",
              "            await google.colab.kernel.invokeFunction('convertToInteractive',\n",
              "                                                     [key], {});\n",
              "          if (!dataTable) return;\n",
              "\n",
              "          const docLinkHtml = 'Like what you see? Visit the ' +\n",
              "            '<a target=\"_blank\" href=https://colab.research.google.com/notebooks/data_table.ipynb>data table notebook</a>'\n",
              "            + ' to learn more about interactive tables.';\n",
              "          element.innerHTML = '';\n",
              "          dataTable['output_type'] = 'display_data';\n",
              "          await google.colab.output.renderOutput(dataTable, element);\n",
              "          const docLink = document.createElement('div');\n",
              "          docLink.innerHTML = docLinkHtml;\n",
              "          element.appendChild(docLink);\n",
              "        }\n",
              "      </script>\n",
              "    </div>\n",
              "  </div>\n",
              "  "
            ]
          },
          "metadata": {},
          "execution_count": 40
        }
      ]
    },
    {
      "cell_type": "code",
      "source": [
        "labels = data['Gas'].unique()\n",
        "labels"
      ],
      "metadata": {
        "colab": {
          "base_uri": "https://localhost:8080/"
        },
        "id": "b3AnENeAIDev",
        "outputId": "5929928b-2188-4135-976c-11fe09eda582"
      },
      "execution_count": 59,
      "outputs": [
        {
          "output_type": "execute_result",
          "data": {
            "text/plain": [
              "array(['Fresh Air', 'Coil', 'Incense Sticks', 'Fast Card', 'Hit',\n",
              "       'Liquid', 'EGG TRAY'], dtype=object)"
            ]
          },
          "metadata": {},
          "execution_count": 59
        }
      ]
    },
    {
      "cell_type": "code",
      "source": [
        "from sklearn.preprocessing import LabelEncoder\n",
        "ohe = LabelEncoder()"
      ],
      "metadata": {
        "id": "bstwHbu7IKNI"
      },
      "execution_count": 60,
      "outputs": []
    },
    {
      "cell_type": "code",
      "source": [
        "Y = ohe.fit_transform(data['Gas'])\n",
        "Y"
      ],
      "metadata": {
        "colab": {
          "base_uri": "https://localhost:8080/"
        },
        "id": "KSX2N9sFIsy1",
        "outputId": "29293f4c-4f80-4d2f-c531-d388c8d11b3e"
      },
      "execution_count": 65,
      "outputs": [
        {
          "output_type": "execute_result",
          "data": {
            "text/plain": [
              "array([3, 3, 3, ..., 1, 1, 1])"
            ]
          },
          "metadata": {},
          "execution_count": 65
        }
      ]
    },
    {
      "cell_type": "code",
      "source": [
        "# Y = Y.toarray()\n"
      ],
      "metadata": {
        "colab": {
          "base_uri": "https://localhost:8080/",
          "height": 171
        },
        "id": "O9rCkkSaI6J5",
        "outputId": "414c3245-e13f-4cd6-dd8f-2394e3914392"
      },
      "execution_count": 64,
      "outputs": [
        {
          "output_type": "error",
          "ename": "AttributeError",
          "evalue": "ignored",
          "traceback": [
            "\u001b[0;31m---------------------------------------------------------------------------\u001b[0m",
            "\u001b[0;31mAttributeError\u001b[0m                            Traceback (most recent call last)",
            "\u001b[0;32m<ipython-input-64-0a3f05f2ea83>\u001b[0m in \u001b[0;36m<cell line: 1>\u001b[0;34m()\u001b[0m\n\u001b[0;32m----> 1\u001b[0;31m \u001b[0mY\u001b[0m \u001b[0;34m=\u001b[0m \u001b[0mY\u001b[0m\u001b[0;34m.\u001b[0m\u001b[0mtoarray\u001b[0m\u001b[0;34m(\u001b[0m\u001b[0;34m)\u001b[0m\u001b[0;34m\u001b[0m\u001b[0;34m\u001b[0m\u001b[0m\n\u001b[0m",
            "\u001b[0;31mAttributeError\u001b[0m: 'numpy.ndarray' object has no attribute 'toarray'"
          ]
        }
      ]
    },
    {
      "cell_type": "code",
      "source": [
        "data_ = data.drop(['Gas'],axis=1)\n",
        "from sklearn.preprocessing import MinMaxScaler\n",
        "\n",
        "scaler = MinMaxScaler(feature_range=(0, 1))\n",
        "X = scaler.fit_transform(data_)"
      ],
      "metadata": {
        "id": "b38PIq_3JDwE"
      },
      "execution_count": 66,
      "outputs": []
    },
    {
      "cell_type": "code",
      "source": [
        "X1 = []\n",
        "for i in range(X.shape[0]):\n",
        "  arr = X[i]\n",
        "  arr = np.array(arr)\n",
        "  arr = np.reshape(arr,(5,2))\n",
        "  X1.append(arr)\n",
        "# X1[0:5]\n",
        "# X1.shape\n",
        "X = np.array(X1)\n",
        "X.shape"
      ],
      "metadata": {
        "colab": {
          "base_uri": "https://localhost:8080/"
        },
        "id": "5GY0FgjUJNkQ",
        "outputId": "a6fa80b4-2f1a-4d94-d7f2-bd634cd23929"
      },
      "execution_count": 67,
      "outputs": [
        {
          "output_type": "execute_result",
          "data": {
            "text/plain": [
              "(1678, 5, 2)"
            ]
          },
          "metadata": {},
          "execution_count": 67
        }
      ]
    },
    {
      "cell_type": "code",
      "source": [
        "from sklearn.model_selection import train_test_split\n",
        "X_train, X_test, y_train, y_test = train_test_split(\n",
        "    X, Y, test_size=0.05, random_state=0)\n",
        "\n",
        "# X_train.reshape((1594,10,1))\n",
        "X_train.shape,y_train.shape"
      ],
      "metadata": {
        "colab": {
          "base_uri": "https://localhost:8080/"
        },
        "id": "FqPnZIOEJmCp",
        "outputId": "8ea4ac95-2caf-4e35-f330-ffebb0fe1dbf"
      },
      "execution_count": 68,
      "outputs": [
        {
          "output_type": "execute_result",
          "data": {
            "text/plain": [
              "((1594, 5, 2), (1594,))"
            ]
          },
          "metadata": {},
          "execution_count": 68
        }
      ]
    },
    {
      "cell_type": "code",
      "source": [],
      "metadata": {
        "colab": {
          "base_uri": "https://localhost:8080/"
        },
        "id": "DQ83WJ-zK5VG",
        "outputId": "51f44777-a8bf-4fb6-b94d-e5591957dc1f"
      },
      "execution_count": 38,
      "outputs": [
        {
          "output_type": "execute_result",
          "data": {
            "text/plain": [
              "(1594, 5, 2)"
            ]
          },
          "metadata": {},
          "execution_count": 38
        }
      ]
    },
    {
      "cell_type": "code",
      "source": [
        "import tensorflow as tf\n",
        "model_cnn = tf.keras.Sequential()\n",
        "model_cnn.add(tf.keras.layers.Conv1D(filters=64, kernel_size=2, activation='relu', input_shape=(X_train.shape[1], X_train.shape[2])))\n",
        "model_cnn.add(tf.keras.layers.Dropout(\n",
        "    rate=0.1\n",
        ")\n",
        " )\n",
        "model_cnn.add(tf.keras.layers.MaxPooling1D(pool_size=1))\n",
        "model_cnn.add(tf.keras.layers.Flatten())\n",
        "model_cnn.add(tf.keras.layers.Dense(50))\n",
        "model_cnn.add(tf.keras.layers.Dense(units=7,activation='softmax'))\n",
        "model_cnn.compile(loss='sparse_categorical_crossentropy', optimizer='adam',metrics=['accuracy'])\n"
      ],
      "metadata": {
        "id": "QS7IQ4Y3JxGi"
      },
      "execution_count": 86,
      "outputs": []
    },
    {
      "cell_type": "code",
      "source": [
        "history = model_cnn.fit(X_train, y_train,  epochs=100, batch_size = 32)"
      ],
      "metadata": {
        "colab": {
          "base_uri": "https://localhost:8080/"
        },
        "id": "V4I1_h4gKNOY",
        "outputId": "75c418dd-7f51-4170-8cdf-fedc00d50977"
      },
      "execution_count": 88,
      "outputs": [
        {
          "output_type": "stream",
          "name": "stdout",
          "text": [
            "Epoch 1/100\n",
            "50/50 [==============================] - 0s 2ms/step - loss: 0.2260 - accuracy: 0.8946\n",
            "Epoch 2/100\n",
            "50/50 [==============================] - 0s 2ms/step - loss: 0.2240 - accuracy: 0.8934\n",
            "Epoch 3/100\n",
            "50/50 [==============================] - 0s 2ms/step - loss: 0.2235 - accuracy: 0.8871\n",
            "Epoch 4/100\n",
            "50/50 [==============================] - 0s 2ms/step - loss: 0.2178 - accuracy: 0.9015\n",
            "Epoch 5/100\n",
            "50/50 [==============================] - 0s 2ms/step - loss: 0.2257 - accuracy: 0.8952\n",
            "Epoch 6/100\n",
            "50/50 [==============================] - 0s 2ms/step - loss: 0.2151 - accuracy: 0.8971\n",
            "Epoch 7/100\n",
            "50/50 [==============================] - 0s 3ms/step - loss: 0.2115 - accuracy: 0.8934\n",
            "Epoch 8/100\n",
            "50/50 [==============================] - 0s 2ms/step - loss: 0.2204 - accuracy: 0.8934\n",
            "Epoch 9/100\n",
            "50/50 [==============================] - 0s 2ms/step - loss: 0.2148 - accuracy: 0.8908\n",
            "Epoch 10/100\n",
            "50/50 [==============================] - 0s 2ms/step - loss: 0.2102 - accuracy: 0.9059\n",
            "Epoch 11/100\n",
            "50/50 [==============================] - 0s 2ms/step - loss: 0.2261 - accuracy: 0.8833\n",
            "Epoch 12/100\n",
            "50/50 [==============================] - 0s 2ms/step - loss: 0.2034 - accuracy: 0.9015\n",
            "Epoch 13/100\n",
            "50/50 [==============================] - 0s 2ms/step - loss: 0.2075 - accuracy: 0.8984\n",
            "Epoch 14/100\n",
            "50/50 [==============================] - 0s 3ms/step - loss: 0.2002 - accuracy: 0.9065\n",
            "Epoch 15/100\n",
            "50/50 [==============================] - 0s 2ms/step - loss: 0.2029 - accuracy: 0.8965\n",
            "Epoch 16/100\n",
            "50/50 [==============================] - 0s 2ms/step - loss: 0.1983 - accuracy: 0.9147\n",
            "Epoch 17/100\n",
            "50/50 [==============================] - 0s 2ms/step - loss: 0.2031 - accuracy: 0.8896\n",
            "Epoch 18/100\n",
            "50/50 [==============================] - 0s 2ms/step - loss: 0.1949 - accuracy: 0.9078\n",
            "Epoch 19/100\n",
            "50/50 [==============================] - 0s 2ms/step - loss: 0.1938 - accuracy: 0.9097\n",
            "Epoch 20/100\n",
            "50/50 [==============================] - 0s 2ms/step - loss: 0.2012 - accuracy: 0.8971\n",
            "Epoch 21/100\n",
            "50/50 [==============================] - 0s 2ms/step - loss: 0.1987 - accuracy: 0.9046\n",
            "Epoch 22/100\n",
            "50/50 [==============================] - 0s 3ms/step - loss: 0.1957 - accuracy: 0.9040\n",
            "Epoch 23/100\n",
            "50/50 [==============================] - 0s 2ms/step - loss: 0.1867 - accuracy: 0.9059\n",
            "Epoch 24/100\n",
            "50/50 [==============================] - 0s 2ms/step - loss: 0.1922 - accuracy: 0.9046\n",
            "Epoch 25/100\n",
            "50/50 [==============================] - 0s 2ms/step - loss: 0.1830 - accuracy: 0.9065\n",
            "Epoch 26/100\n",
            "50/50 [==============================] - 0s 3ms/step - loss: 0.1810 - accuracy: 0.9134\n",
            "Epoch 27/100\n",
            "50/50 [==============================] - 0s 2ms/step - loss: 0.1794 - accuracy: 0.9147\n",
            "Epoch 28/100\n",
            "50/50 [==============================] - 0s 2ms/step - loss: 0.1900 - accuracy: 0.9078\n",
            "Epoch 29/100\n",
            "50/50 [==============================] - 0s 2ms/step - loss: 0.1863 - accuracy: 0.9072\n",
            "Epoch 30/100\n",
            "50/50 [==============================] - 0s 2ms/step - loss: 0.1823 - accuracy: 0.9028\n",
            "Epoch 31/100\n",
            "50/50 [==============================] - 0s 2ms/step - loss: 0.1787 - accuracy: 0.9078\n",
            "Epoch 32/100\n",
            "50/50 [==============================] - 0s 3ms/step - loss: 0.1826 - accuracy: 0.9015\n",
            "Epoch 33/100\n",
            "50/50 [==============================] - 0s 2ms/step - loss: 0.1781 - accuracy: 0.9103\n",
            "Epoch 34/100\n",
            "50/50 [==============================] - 0s 2ms/step - loss: 0.1836 - accuracy: 0.9021\n",
            "Epoch 35/100\n",
            "50/50 [==============================] - 0s 2ms/step - loss: 0.1799 - accuracy: 0.9053\n",
            "Epoch 36/100\n",
            "50/50 [==============================] - 0s 2ms/step - loss: 0.1756 - accuracy: 0.9153\n",
            "Epoch 37/100\n",
            "50/50 [==============================] - 0s 2ms/step - loss: 0.1686 - accuracy: 0.9159\n",
            "Epoch 38/100\n",
            "50/50 [==============================] - 0s 2ms/step - loss: 0.1723 - accuracy: 0.9090\n",
            "Epoch 39/100\n",
            "50/50 [==============================] - 0s 3ms/step - loss: 0.1722 - accuracy: 0.9134\n",
            "Epoch 40/100\n",
            "50/50 [==============================] - 0s 2ms/step - loss: 0.1800 - accuracy: 0.9021\n",
            "Epoch 41/100\n",
            "50/50 [==============================] - 0s 2ms/step - loss: 0.1685 - accuracy: 0.9166\n",
            "Epoch 42/100\n",
            "50/50 [==============================] - 0s 2ms/step - loss: 0.1644 - accuracy: 0.9078\n",
            "Epoch 43/100\n",
            "50/50 [==============================] - 0s 2ms/step - loss: 0.1628 - accuracy: 0.9235\n",
            "Epoch 44/100\n",
            "50/50 [==============================] - 0s 2ms/step - loss: 0.1671 - accuracy: 0.9059\n",
            "Epoch 45/100\n",
            "50/50 [==============================] - 0s 2ms/step - loss: 0.1725 - accuracy: 0.9134\n",
            "Epoch 46/100\n",
            "50/50 [==============================] - 0s 2ms/step - loss: 0.1641 - accuracy: 0.9109\n",
            "Epoch 47/100\n",
            "50/50 [==============================] - 0s 2ms/step - loss: 0.1720 - accuracy: 0.9159\n",
            "Epoch 48/100\n",
            "50/50 [==============================] - 0s 2ms/step - loss: 0.1677 - accuracy: 0.9109\n",
            "Epoch 49/100\n",
            "50/50 [==============================] - 0s 2ms/step - loss: 0.1633 - accuracy: 0.9153\n",
            "Epoch 50/100\n",
            "50/50 [==============================] - 0s 2ms/step - loss: 0.1649 - accuracy: 0.9159\n",
            "Epoch 51/100\n",
            "50/50 [==============================] - 0s 2ms/step - loss: 0.1767 - accuracy: 0.9103\n",
            "Epoch 52/100\n",
            "50/50 [==============================] - 0s 2ms/step - loss: 0.1640 - accuracy: 0.9247\n",
            "Epoch 53/100\n",
            "50/50 [==============================] - 0s 3ms/step - loss: 0.1624 - accuracy: 0.9134\n",
            "Epoch 54/100\n",
            "50/50 [==============================] - 0s 2ms/step - loss: 0.1567 - accuracy: 0.9172\n",
            "Epoch 55/100\n",
            "50/50 [==============================] - 0s 2ms/step - loss: 0.1615 - accuracy: 0.9166\n",
            "Epoch 56/100\n",
            "50/50 [==============================] - 0s 2ms/step - loss: 0.1608 - accuracy: 0.9210\n",
            "Epoch 57/100\n",
            "50/50 [==============================] - 0s 2ms/step - loss: 0.1626 - accuracy: 0.9203\n",
            "Epoch 58/100\n",
            "50/50 [==============================] - 0s 2ms/step - loss: 0.1582 - accuracy: 0.9128\n",
            "Epoch 59/100\n",
            "50/50 [==============================] - 0s 2ms/step - loss: 0.1553 - accuracy: 0.9159\n",
            "Epoch 60/100\n",
            "50/50 [==============================] - 0s 2ms/step - loss: 0.1622 - accuracy: 0.9178\n",
            "Epoch 61/100\n",
            "50/50 [==============================] - 0s 2ms/step - loss: 0.1554 - accuracy: 0.9178\n",
            "Epoch 62/100\n",
            "50/50 [==============================] - 0s 3ms/step - loss: 0.1568 - accuracy: 0.9172\n",
            "Epoch 63/100\n",
            "50/50 [==============================] - 0s 2ms/step - loss: 0.1522 - accuracy: 0.9159\n",
            "Epoch 64/100\n",
            "50/50 [==============================] - 0s 2ms/step - loss: 0.1599 - accuracy: 0.9178\n",
            "Epoch 65/100\n",
            "50/50 [==============================] - 0s 2ms/step - loss: 0.1568 - accuracy: 0.9153\n",
            "Epoch 66/100\n",
            "50/50 [==============================] - 0s 2ms/step - loss: 0.1526 - accuracy: 0.9172\n",
            "Epoch 67/100\n",
            "50/50 [==============================] - 0s 2ms/step - loss: 0.1544 - accuracy: 0.9153\n",
            "Epoch 68/100\n",
            "50/50 [==============================] - 0s 2ms/step - loss: 0.1507 - accuracy: 0.9134\n",
            "Epoch 69/100\n",
            "50/50 [==============================] - 0s 3ms/step - loss: 0.1717 - accuracy: 0.9040\n",
            "Epoch 70/100\n",
            "50/50 [==============================] - 0s 3ms/step - loss: 0.1580 - accuracy: 0.9090\n",
            "Epoch 71/100\n",
            "50/50 [==============================] - 0s 3ms/step - loss: 0.1524 - accuracy: 0.9172\n",
            "Epoch 72/100\n",
            "50/50 [==============================] - 0s 3ms/step - loss: 0.1490 - accuracy: 0.9222\n",
            "Epoch 73/100\n",
            "50/50 [==============================] - 0s 3ms/step - loss: 0.1512 - accuracy: 0.9147\n",
            "Epoch 74/100\n",
            "50/50 [==============================] - 0s 3ms/step - loss: 0.1608 - accuracy: 0.9053\n",
            "Epoch 75/100\n",
            "50/50 [==============================] - 0s 3ms/step - loss: 0.1485 - accuracy: 0.9203\n",
            "Epoch 76/100\n",
            "50/50 [==============================] - 0s 3ms/step - loss: 0.1457 - accuracy: 0.9216\n",
            "Epoch 77/100\n",
            "50/50 [==============================] - 0s 3ms/step - loss: 0.1510 - accuracy: 0.9166\n",
            "Epoch 78/100\n",
            "50/50 [==============================] - 0s 3ms/step - loss: 0.1549 - accuracy: 0.9134\n",
            "Epoch 79/100\n",
            "50/50 [==============================] - 0s 3ms/step - loss: 0.1446 - accuracy: 0.9178\n",
            "Epoch 80/100\n",
            "50/50 [==============================] - 0s 3ms/step - loss: 0.1505 - accuracy: 0.9159\n",
            "Epoch 81/100\n",
            "50/50 [==============================] - 0s 3ms/step - loss: 0.1545 - accuracy: 0.9166\n",
            "Epoch 82/100\n",
            "50/50 [==============================] - 0s 3ms/step - loss: 0.1487 - accuracy: 0.9147\n",
            "Epoch 83/100\n",
            "50/50 [==============================] - 0s 3ms/step - loss: 0.1543 - accuracy: 0.9166\n",
            "Epoch 84/100\n",
            "50/50 [==============================] - 0s 3ms/step - loss: 0.1485 - accuracy: 0.9115\n",
            "Epoch 85/100\n",
            "50/50 [==============================] - 0s 3ms/step - loss: 0.1432 - accuracy: 0.9172\n",
            "Epoch 86/100\n",
            "50/50 [==============================] - 0s 3ms/step - loss: 0.1395 - accuracy: 0.9210\n",
            "Epoch 87/100\n",
            "50/50 [==============================] - 0s 3ms/step - loss: 0.1616 - accuracy: 0.9166\n",
            "Epoch 88/100\n",
            "50/50 [==============================] - 0s 2ms/step - loss: 0.1484 - accuracy: 0.9203\n",
            "Epoch 89/100\n",
            "50/50 [==============================] - 0s 2ms/step - loss: 0.1440 - accuracy: 0.9235\n",
            "Epoch 90/100\n",
            "50/50 [==============================] - 0s 2ms/step - loss: 0.1448 - accuracy: 0.9247\n",
            "Epoch 91/100\n",
            "50/50 [==============================] - 0s 2ms/step - loss: 0.1416 - accuracy: 0.9191\n",
            "Epoch 92/100\n",
            "50/50 [==============================] - 0s 2ms/step - loss: 0.1456 - accuracy: 0.9009\n",
            "Epoch 93/100\n",
            "50/50 [==============================] - 0s 2ms/step - loss: 0.1454 - accuracy: 0.9128\n",
            "Epoch 94/100\n",
            "50/50 [==============================] - 0s 2ms/step - loss: 0.1452 - accuracy: 0.9147\n",
            "Epoch 95/100\n",
            "50/50 [==============================] - 0s 2ms/step - loss: 0.1452 - accuracy: 0.9172\n",
            "Epoch 96/100\n",
            "50/50 [==============================] - 0s 3ms/step - loss: 0.1498 - accuracy: 0.9166\n",
            "Epoch 97/100\n",
            "50/50 [==============================] - 0s 2ms/step - loss: 0.1396 - accuracy: 0.9197\n",
            "Epoch 98/100\n",
            "50/50 [==============================] - 0s 2ms/step - loss: 0.1426 - accuracy: 0.9285\n",
            "Epoch 99/100\n",
            "50/50 [==============================] - 0s 2ms/step - loss: 0.1469 - accuracy: 0.9172\n",
            "Epoch 100/100\n",
            "50/50 [==============================] - 0s 2ms/step - loss: 0.1555 - accuracy: 0.9128\n"
          ]
        }
      ]
    },
    {
      "cell_type": "code",
      "source": [
        "plt.figure(figsize=(10,6))  \n",
        "plt.plot(history.history['loss'], label='Train loss')\n",
        "# plt.plot(history.history['val_loss'], label='Validation loss')\n",
        "plt.title(\"CNN\")\n",
        "plt.xlabel(\"Epochs\")\n",
        "plt.ylabel(\"MSE\")\n",
        "plt.legend()\n",
        "plt.show()\n",
        "plt.savefig('graph_CNN.png')"
      ],
      "metadata": {
        "colab": {
          "base_uri": "https://localhost:8080/",
          "height": 582
        },
        "id": "kNbnu09pKrSL",
        "outputId": "8b66655b-44a3-49cd-fd6e-f430d330dc68"
      },
      "execution_count": 89,
      "outputs": [
        {
          "output_type": "display_data",
          "data": {
            "text/plain": [
              "<Figure size 1000x600 with 1 Axes>"
            ],
            "image/png": "[encoded data removed]"
          },
          "metadata": {}
        },
        {
          "output_type": "display_data",
          "data": {
            "text/plain": [
              "<Figure size 640x480 with 0 Axes>"
            ]
          },
          "metadata": {}
        }
      ]
    },
    {
      "cell_type": "code",
      "source": [
        "\n",
        "# y_test = [np.argmax(i) for i in y_test]\n",
        "y_pred = model_cnn.predict(X_test)\n",
        "y_pred = [np.argmax(i) for i in y_pred]\n",
        "y_pred[0]"
      ],
      "metadata": {
        "colab": {
          "base_uri": "https://localhost:8080/"
        },
        "id": "IBTrshZMN5zY",
        "outputId": "c0198b74-3bf9-4bc7-d0c4-28a60c53e18d"
      },
      "execution_count": 90,
      "outputs": [
        {
          "output_type": "stream",
          "name": "stdout",
          "text": [
            "3/3 [==============================] - 0s 6ms/step\n"
          ]
        },
        {
          "output_type": "execute_result",
          "data": {
            "text/plain": [
              "4"
            ]
          },
          "metadata": {},
          "execution_count": 90
        }
      ]
    },
    {
      "cell_type": "code",
      "source": [
        "# confusion matrix\n",
        "import matplotlib.pyplot as plt\n",
        "\n",
        "import seaborn as sn\n",
        "cm = tf.math.confusion_matrix(labels=y_test,predictions=y_pred)\n",
        "\n",
        "plt.figure(figsize = (10,7))\n",
        "sn.heatmap(cm, annot=True, fmt='d')\n",
        "plt.xlabel('Predicted')\n",
        "plt.ylabel('Truth')"
      ],
      "metadata": {
        "colab": {
          "base_uri": "https://localhost:8080/",
          "height": 637
        },
        "id": "F-bQlWsdNrOn",
        "outputId": "2473dc92-3d20-45e5-89bd-ed0858965ff1"
      },
      "execution_count": 91,
      "outputs": [
        {
          "output_type": "execute_result",
          "data": {
            "text/plain": [
              "Text(95.72222222222221, 0.5, 'Truth')"
            ]
          },
          "metadata": {},
          "execution_count": 91
        },
        {
          "output_type": "display_data",
          "data": {
            "text/plain": [
              "<Figure size 1000x700 with 2 Axes>"
            ],
            "image/png": "[encoded data removed]"
          },
          "metadata": {}
        }
      ]
    },
    {
      "cell_type": "code",
      "source": [
        "from sklearn.metrics import precision_recall_fscore_support\n",
        "precision_recall_fscore_support(y_test, y_pred, average='micro')\n",
        "# (0.33..., 0.33..., 0.33..., None)"
      ],
      "metadata": {
        "colab": {
          "base_uri": "https://localhost:8080/"
        },
        "id": "efFjD-3XPZt2",
        "outputId": "7f037680-1e47-42d5-8972-ce0242fcb9d7"
      },
      "execution_count": 100,
      "outputs": [
        {
          "output_type": "execute_result",
          "data": {
            "text/plain": [
              "(0.9523809523809523, 0.9523809523809523, 0.9523809523809523, None)"
            ]
          },
          "metadata": {},
          "execution_count": 100
        }
      ]
    },
    {
      "cell_type": "code",
      "source": [
        "score = model_cnn.evaluate(X_test, y_test, verbose=False) \n",
        "model_cnn.metrics_names\n",
        "print('Test score: Loss ', score[0])    #Loss on test\n",
        "print('Test accuracy: ', score[1])"
      ],
      "metadata": {
        "colab": {
          "base_uri": "https://localhost:8080/"
        },
        "id": "8C9kWWtGRaHb",
        "outputId": "12e58add-7da3-49d1-dc50-2cb749da5c52"
      },
      "execution_count": 110,
      "outputs": [
        {
          "output_type": "stream",
          "name": "stdout",
          "text": [
            "Test score: Loss  0.13945165276527405\n",
            "Test accuracy:  0.9523809552192688\n"
          ]
        }
      ]
    },
    {
      "cell_type": "code",
      "source": [],
      "metadata": {
        "id": "UCCqbG5ERliq"
      },
      "execution_count": null,
      "outputs": []
    }
  ]
}